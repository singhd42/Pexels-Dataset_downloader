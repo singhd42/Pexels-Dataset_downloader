{
 "cells": [
  {
   "cell_type": "code",
   "execution_count": 59,
   "id": "db8f260c-c4f6-499b-8a14-6136e8777794",
   "metadata": {},
   "outputs": [
    {
     "name": "stdout",
     "output_type": "stream",
     "text": [
      "API headers are set up and ready.\n"
     ]
    }
   ],
   "source": [
    "import requests\n",
    "import os\n",
    "from PIL import Image\n",
    "\n",
    "\n",
    "# Set up the Pexels API Key and Headers\n",
    "API_KEY = \"J7It4MBq37ztg1YRrfiU91fjlMkkDXViK8Z6llbPsBHFoO7KnDI9E6c6\"  # Used my personal API key, can replace with company api if needed\n",
    "\n",
    "# Set up headers for API authentication\n",
    "headers = {\n",
    "    \"Authorization\": API_KEY\n",
    "}\n",
    "\n",
    "print(\"API headers are set up and ready.\")"
   ]
  },
  {
   "cell_type": "code",
   "execution_count": 60,
   "id": "433a6556-84b0-41aa-ba29-46e7b9d77242",
   "metadata": {},
   "outputs": [],
   "source": [
    "# Step 2: Function to download images from Pexels\n",
    "def download_images(query, num_images=5, output_dir=\"pexels_images\"):\n",
    "    # Create the output directory if it doesn't exist\n",
    "    if not os.path.exists(output_dir):\n",
    "        os.makedirs(output_dir)\n",
    "    \n",
    "    # Define the search parameters\n",
    "    params = {\n",
    "        \"query\": query,\n",
    "        \"per_page\": num_images\n",
    "    }\n",
    "    \n",
    "    # Send request to Pexels API to search for images\n",
    "    response = requests.get(\"https://api.pexels.com/v1/search\", headers=headers, params=params)\n",
    "    data = response.json()\n",
    "    \n",
    "    # Loop through the results and download images\n",
    "    for index, photo in enumerate(data['photos']):\n",
    "        image_url = photo['src']['original']\n",
    "        image_data = requests.get(image_url).content\n",
    "        image_filename = os.path.join(output_dir, f\"{query}_{index + 1}.jpg\")\n",
    "        \n",
    "        with open(image_filename, 'wb') as image_file:\n",
    "            image_file.write(image_data)\n",
    "        \n",
    "        print(f\"Downloaded {image_filename}\")"
   ]
  },
  {
   "cell_type": "code",
   "execution_count": 61,
   "id": "a36cc791-8cda-4549-b52e-736545986873",
   "metadata": {},
   "outputs": [],
   "source": [
    "# Step 2: Function to download images from Pexels\n",
    "def download_images(query, num_images=5, output_dir=\"pexels_images\"):\n",
    "    # Create the output directory if it doesn't exist\n",
    "    if not os.path.exists(output_dir):\n",
    "        os.makedirs(output_dir)\n",
    "    \n",
    "    # Define the search parameters\n",
    "    params = {\n",
    "        \"query\": query,\n",
    "        \"per_page\": num_images\n",
    "    }\n",
    "    \n",
    "    # Send request to Pexels API to search for images\n",
    "    response = requests.get(\"https://api.pexels.com/v1/search\", headers=headers, params=params)\n",
    "    data = response.json()\n",
    "    \n",
    "    # Loop through the results and download images\n",
    "    for index, photo in enumerate(data['photos']):\n",
    "        image_url = photo['src']['original']\n",
    "        image_data = requests.get(image_url).content\n",
    "        image_filename = os.path.join(output_dir, f\"{query}_{index + 1}.jpg\")\n",
    "        \n",
    "        with open(image_filename, 'wb') as image_file:\n",
    "            image_file.write(image_data)\n",
    "        \n",
    "        print(f\"Downloaded {image_filename}\")"
   ]
  },
  {
   "cell_type": "code",
   "execution_count": 62,
   "id": "ccaa51c5-6544-4212-81e8-092a83a32dc2",
   "metadata": {},
   "outputs": [],
   "source": [
    "# Step 3: Function to resize images and save them to a new folder\n",
    "def resize_images(input_folder, output_folder, size=(800, 600)):\n",
    "    # Create the output folder if it doesn't exist\n",
    "    if not os.path.exists(output_folder):\n",
    "        os.makedirs(output_folder)\n",
    "    \n",
    "    # Loop through all images in the input folder and resize them\n",
    "    for filename in os.listdir(input_folder):\n",
    "        if filename.endswith(\".jpg\") or filename.endswith(\".png\"):  # Process only image files\n",
    "            img_path = os.path.join(input_folder, filename)\n",
    "            img = Image.open(img_path)\n",
    "            \n",
    "            # Resize the image (ANTIALIAS is no longer needed)\n",
    "            img_resized = img.resize(size)\n",
    "            \n",
    "            # Save the resized image to the output folder\n",
    "            resized_image_path = os.path.join(output_folder, filename)\n",
    "            img_resized.save(resized_image_path)\n",
    "            print(f\"Resized and saved: {resized_image_path}\")"
   ]
  },
  {
   "cell_type": "code",
   "execution_count": null,
   "id": "39c668a3-6085-4e33-85f9-da72d7c25097",
   "metadata": {},
   "outputs": [],
   "source": [
    "# Step 4: Download images and resize them\n",
    "query = \"nature\"  # Example search query\n",
    "num_images = 5  # Number of images to download\n",
    "\n",
    "# Download images from Pexels\n",
    "download_images(query, num_images=num_images)\n",
    "\n",
    "# Resize the downloaded images\n",
    "input_folder = \"pexels_images\"\n",
    "output_folder = \"pexels_images_resized\"\n",
    "resize_images(input_folder, output_folder, size=(800, 600))"
   ]
  },
  {
   "cell_type": "code",
   "execution_count": null,
   "id": "6e4a787b-af3e-4851-9900-46e10b7b6b1d",
   "metadata": {},
   "outputs": [],
   "source": []
  }
 ],
 "metadata": {
  "kernelspec": {
   "display_name": "Python 3 (ipykernel)",
   "language": "python",
   "name": "python3"
  },
  "language_info": {
   "codemirror_mode": {
    "name": "ipython",
    "version": 3
   },
   "file_extension": ".py",
   "mimetype": "text/x-python",
   "name": "python",
   "nbconvert_exporter": "python",
   "pygments_lexer": "ipython3",
   "version": "3.12.4"
  }
 },
 "nbformat": 4,
 "nbformat_minor": 5
}
